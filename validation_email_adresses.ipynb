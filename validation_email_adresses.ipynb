{
 "cells": [
  {
   "cell_type": "markdown",
   "id": "ff4f49c8",
   "metadata": {},
   "source": [
    "# Nettoyage du fichier de contact presse "
   ]
  },
  {
   "cell_type": "code",
   "execution_count": 1,
   "id": "c96d80ec",
   "metadata": {},
   "outputs": [],
   "source": [
    "import re\n",
    "import pandas as pd\n",
    "from validate_email import validate_email"
   ]
  },
  {
   "cell_type": "code",
   "execution_count": 2,
   "id": "135c0a03",
   "metadata": {},
   "outputs": [],
   "source": [
    "# Choix de la méthode de validation (1 ou 2)\n",
    "valid_method = 2"
   ]
  },
  {
   "cell_type": "code",
   "execution_count": 3,
   "id": "bf5027e7",
   "metadata": {},
   "outputs": [
    {
     "name": "stdout",
     "output_type": "stream",
     "text": [
      "(7450, 2)\n"
     ]
    },
    {
     "data": {
      "text/html": [
       "<div>\n",
       "<style scoped>\n",
       "    .dataframe tbody tr th:only-of-type {\n",
       "        vertical-align: middle;\n",
       "    }\n",
       "\n",
       "    .dataframe tbody tr th {\n",
       "        vertical-align: top;\n",
       "    }\n",
       "\n",
       "    .dataframe thead th {\n",
       "        text-align: right;\n",
       "    }\n",
       "</style>\n",
       "<table border=\"1\" class=\"dataframe\">\n",
       "  <thead>\n",
       "    <tr style=\"text-align: right;\">\n",
       "      <th></th>\n",
       "      <th>Nom organisation</th>\n",
       "      <th>Email contact</th>\n",
       "    </tr>\n",
       "  </thead>\n",
       "  <tbody>\n",
       "    <tr>\n",
       "      <th>0</th>\n",
       "      <td>UPRIGHT AGENCY</td>\n",
       "      <td>ivictor@lOOpourlOOgolf.com</td>\n",
       "    </tr>\n",
       "    <tr>\n",
       "      <th>1</th>\n",
       "      <td>UPRIGHT AGENCY</td>\n",
       "      <td>ivictor@lOOpourlOOgolf.com</td>\n",
       "    </tr>\n",
       "    <tr>\n",
       "      <th>2</th>\n",
       "      <td>VOCATIF</td>\n",
       "      <td>vocat1f@wanadoo.fr</td>\n",
       "    </tr>\n",
       "    <tr>\n",
       "      <th>3</th>\n",
       "      <td>VOCATIF</td>\n",
       "      <td>vocat1f@wanadoo.fr</td>\n",
       "    </tr>\n",
       "    <tr>\n",
       "      <th>4</th>\n",
       "      <td>WAKE UP EVENTS</td>\n",
       "      <td>conlacl@scapevenl.com</td>\n",
       "    </tr>\n",
       "  </tbody>\n",
       "</table>\n",
       "</div>"
      ],
      "text/plain": [
       "  Nom organisation               Email contact\n",
       "0   UPRIGHT AGENCY  ivictor@lOOpourlOOgolf.com\n",
       "1   UPRIGHT AGENCY  ivictor@lOOpourlOOgolf.com\n",
       "2          VOCATIF          vocat1f@wanadoo.fr\n",
       "3          VOCATIF          vocat1f@wanadoo.fr\n",
       "4   WAKE UP EVENTS       conlacl@scapevenl.com"
      ]
     },
     "execution_count": 3,
     "metadata": {},
     "output_type": "execute_result"
    }
   ],
   "source": [
    "# Chargement du fichier CSV contenant les adresses e-mail\n",
    "df = pd.read_csv('data/Contacts_clean.csv')\n",
    "print(df.shape)\n",
    "df.head()"
   ]
  },
  {
   "cell_type": "code",
   "execution_count": 4,
   "id": "a3854e46",
   "metadata": {},
   "outputs": [
    {
     "name": "stdout",
     "output_type": "stream",
     "text": [
      "(3718, 2)\n"
     ]
    },
    {
     "data": {
      "text/html": [
       "<div>\n",
       "<style scoped>\n",
       "    .dataframe tbody tr th:only-of-type {\n",
       "        vertical-align: middle;\n",
       "    }\n",
       "\n",
       "    .dataframe tbody tr th {\n",
       "        vertical-align: top;\n",
       "    }\n",
       "\n",
       "    .dataframe thead th {\n",
       "        text-align: right;\n",
       "    }\n",
       "</style>\n",
       "<table border=\"1\" class=\"dataframe\">\n",
       "  <thead>\n",
       "    <tr style=\"text-align: right;\">\n",
       "      <th></th>\n",
       "      <th>Nom organisation</th>\n",
       "      <th>Email contact</th>\n",
       "    </tr>\n",
       "  </thead>\n",
       "  <tbody>\n",
       "    <tr>\n",
       "      <th>0</th>\n",
       "      <td>UPRIGHT AGENCY</td>\n",
       "      <td>ivictor@lOOpourlOOgolf.com</td>\n",
       "    </tr>\n",
       "    <tr>\n",
       "      <th>2</th>\n",
       "      <td>VOCATIF</td>\n",
       "      <td>vocat1f@wanadoo.fr</td>\n",
       "    </tr>\n",
       "    <tr>\n",
       "      <th>4</th>\n",
       "      <td>WAKE UP EVENTS</td>\n",
       "      <td>conlacl@scapevenl.com</td>\n",
       "    </tr>\n",
       "    <tr>\n",
       "      <th>6</th>\n",
       "      <td>WHAT'S HAP</td>\n",
       "      <td>maumus@whatshap.fr</td>\n",
       "    </tr>\n",
       "    <tr>\n",
       "      <th>8</th>\n",
       "      <td>WMH PROJECT</td>\n",
       "      <td>developpement@fc2events.fr</td>\n",
       "    </tr>\n",
       "  </tbody>\n",
       "</table>\n",
       "</div>"
      ],
      "text/plain": [
       "  Nom organisation               Email contact\n",
       "0   UPRIGHT AGENCY  ivictor@lOOpourlOOgolf.com\n",
       "2          VOCATIF          vocat1f@wanadoo.fr\n",
       "4   WAKE UP EVENTS       conlacl@scapevenl.com\n",
       "6       WHAT'S HAP          maumus@whatshap.fr\n",
       "8      WMH PROJECT  developpement@fc2events.fr"
      ]
     },
     "execution_count": 4,
     "metadata": {},
     "output_type": "execute_result"
    }
   ],
   "source": [
    "# Retrait des doublons\n",
    "df = df.drop_duplicates()\n",
    "print(df.shape)\n",
    "df.head()"
   ]
  },
  {
   "cell_type": "code",
   "execution_count": 5,
   "id": "35bb75e8",
   "metadata": {},
   "outputs": [],
   "source": [
    "# Validation des adresses e-mail\n",
    "def is_valid_email(email):\n",
    "    is_valid = validate_email(\n",
    "    email_address=email,\n",
    "    check_format=True,\n",
    "    check_blacklist=True,\n",
    "    check_dns=False,\n",
    "    dns_timeout=10,\n",
    "    check_smtp=True,\n",
    "    smtp_timeout=10,\n",
    "    smtp_helo_host=False,\n",
    "    smtp_from_address=False,\n",
    "    smtp_skip_tls=True,\n",
    "    smtp_tls_context=False,\n",
    "    smtp_debug=False)\n",
    "    \n",
    "    return is_valid"
   ]
  },
  {
   "cell_type": "code",
   "execution_count": 6,
   "id": "a32b4a2c",
   "metadata": {},
   "outputs": [],
   "source": [
    "# Dictionnaires d'erreurs courantes d'OCR\n",
    "ocr_corrections = {\n",
    "    # Chiffres confondus avec des lettres\n",
    "    '1': 'i',  # 1 -> i (sauf dans les chiffres légitimes)\n",
    "    '0': 'o',  # 0 -> o dans certains contextes\n",
    "    '5': 's',  # 5 -> s\n",
    "    '10': 'io',  # 10 -> io\n",
    "    '01': 'oi',  # 10 -> io\n",
    "    # Autres corrections possibles\n",
    "    'rn': 'm',  # rn -> m\n",
    "    'vv': 'w',  # vv -> w\n",
    "    'conlacl': 'contact',  # conlacl -> contact\n",
    "    'redacl0n': 'redaction',  # redacl0n -> redaction\n",
    "    \"cenlr\": \"centr\",  # cen1r -> centr\n",
    "    'cen1r': 'centr',  # cen1r -> centr\n",
    "    'conlact': 'contact',  # conlact -> contact\n",
    "    \"redaclion\": \"redaction\",  # redacl10n -> redaction\n",
    "    \"commun%2Ccatlon\": \"communication\",  # commun%2Ccatlon -> communication\n",
    "}"
   ]
  },
  {
   "cell_type": "code",
   "execution_count": 7,
   "id": "756c33ad",
   "metadata": {},
   "outputs": [],
   "source": [
    "# Corrections courantes d'OCR\n",
    "def correct_ocr_errors_advanced(email, corrections_dict=ocr_corrections):\n",
    "    \"\"\"Corrige les erreurs OCR courantes dans les emails\"\"\"\n",
    "    if not isinstance(email, str):\n",
    "        return str(email) if email is not None else \"\"\n",
    "    \n",
    "    email = email.strip()\n",
    "    \n",
    "    if not email or '@' not in email:\n",
    "        return email\n",
    "    \n",
    "    \n",
    "    # Séparer la partie locale et le domaine\n",
    "    local, domain = email.rsplit('@', 1)\n",
    "    \n",
    "    # Appliquer les corrections sur la partie locale et le domaine\n",
    "    for wrong, correct in corrections_dict.items():\n",
    "        # Correction pour les caractères simples (1, 0, 5)\n",
    "        if len(wrong) == 1 and len(correct) == 1:\n",
    "            # Remplacer uniquement si entouré de lettres (pas de chiffres)\n",
    "            local = re.sub(rf'(?<=[a-zA-Z]){re.escape(wrong)}(?=[a-zA-Z])', correct, local)\n",
    "            local = re.sub(rf'^{re.escape(wrong)}(?=[a-zA-Z])', correct, local)\n",
    "            local = re.sub(rf'(?<=[a-zA-Z]){re.escape(wrong)}$', correct, local)\n",
    "            \n",
    "            domain = re.sub(rf'(?<=[a-zA-Z]){re.escape(wrong)}(?=[a-zA-Z])', correct, domain)\n",
    "            domain = re.sub(rf'^{re.escape(wrong)}(?=[a-zA-Z])', correct, domain)\n",
    "            domain = re.sub(rf'(?<=[a-zA-Z]){re.escape(wrong)}$', correct, domain)\n",
    "        else:\n",
    "            # Correction pour les groupes de caractères (rn, vv)\n",
    "            local = local.replace(wrong, correct)\n",
    "            domain = domain.replace(wrong, correct)\n",
    "    \n",
    "    email_corrected = f\"{local}@{domain}\"\n",
    "    \n",
    "    return email_corrected"
   ]
  },
  {
   "cell_type": "code",
   "execution_count": 8,
   "id": "615f7f40",
   "metadata": {},
   "outputs": [
    {
     "name": "stdout",
     "output_type": "stream",
     "text": [
      "(3718, 3)\n"
     ]
    },
    {
     "data": {
      "text/html": [
       "<div>\n",
       "<style scoped>\n",
       "    .dataframe tbody tr th:only-of-type {\n",
       "        vertical-align: middle;\n",
       "    }\n",
       "\n",
       "    .dataframe tbody tr th {\n",
       "        vertical-align: top;\n",
       "    }\n",
       "\n",
       "    .dataframe thead th {\n",
       "        text-align: right;\n",
       "    }\n",
       "</style>\n",
       "<table border=\"1\" class=\"dataframe\">\n",
       "  <thead>\n",
       "    <tr style=\"text-align: right;\">\n",
       "      <th></th>\n",
       "      <th>Nom organisation</th>\n",
       "      <th>Email contact</th>\n",
       "      <th>corrected_email</th>\n",
       "    </tr>\n",
       "  </thead>\n",
       "  <tbody>\n",
       "    <tr>\n",
       "      <th>0</th>\n",
       "      <td>UPRIGHT AGENCY</td>\n",
       "      <td>ivictor@lOOpourlOOgolf.com</td>\n",
       "      <td>ivictor@lOOpourlOOgolf.com</td>\n",
       "    </tr>\n",
       "    <tr>\n",
       "      <th>2</th>\n",
       "      <td>VOCATIF</td>\n",
       "      <td>vocat1f@wanadoo.fr</td>\n",
       "      <td>vocatif@wanadoo.fr</td>\n",
       "    </tr>\n",
       "    <tr>\n",
       "      <th>4</th>\n",
       "      <td>WAKE UP EVENTS</td>\n",
       "      <td>conlacl@scapevenl.com</td>\n",
       "      <td>contact@scapevenl.com</td>\n",
       "    </tr>\n",
       "    <tr>\n",
       "      <th>6</th>\n",
       "      <td>WHAT'S HAP</td>\n",
       "      <td>maumus@whatshap.fr</td>\n",
       "      <td>maumus@whatshap.fr</td>\n",
       "    </tr>\n",
       "    <tr>\n",
       "      <th>8</th>\n",
       "      <td>WMH PROJECT</td>\n",
       "      <td>developpement@fc2events.fr</td>\n",
       "      <td>developpement@fc2events.fr</td>\n",
       "    </tr>\n",
       "  </tbody>\n",
       "</table>\n",
       "</div>"
      ],
      "text/plain": [
       "  Nom organisation               Email contact             corrected_email\n",
       "0   UPRIGHT AGENCY  ivictor@lOOpourlOOgolf.com  ivictor@lOOpourlOOgolf.com\n",
       "2          VOCATIF          vocat1f@wanadoo.fr          vocatif@wanadoo.fr\n",
       "4   WAKE UP EVENTS       conlacl@scapevenl.com       contact@scapevenl.com\n",
       "6       WHAT'S HAP          maumus@whatshap.fr          maumus@whatshap.fr\n",
       "8      WMH PROJECT  developpement@fc2events.fr  developpement@fc2events.fr"
      ]
     },
     "execution_count": 8,
     "metadata": {},
     "output_type": "execute_result"
    }
   ],
   "source": [
    "# Correction des mails\n",
    "df['corrected_email'] = df[\"Email contact\"].apply(lambda email: correct_ocr_errors_advanced(email))\n",
    "print(df.shape)\n",
    "df.head()"
   ]
  },
  {
   "cell_type": "code",
   "execution_count": 9,
   "id": "779be3ef",
   "metadata": {},
   "outputs": [],
   "source": [
    "# Validation complexe\n",
    "if valid_method == 1:\n",
    "\n",
    "    # Test sur un échatillon\n",
    "    df_test = df.sample(n=20, random_state=42)\n",
    "\n",
    "    # Validation des adresses e-mail\n",
    "    df_test[\"Valid_Email\"] = df_test[\"Email contact\"].apply(is_valid_email)\n",
    "    print(df_test.shape)\n",
    "\n",
    "    # Résumé\n",
    "    df_test[\"Valid_Email\"].value_counts()\n",
    "\n",
    "    # Affichage\n",
    "    print(df_test)"
   ]
  },
  {
   "cell_type": "code",
   "execution_count": 10,
   "id": "870099a9",
   "metadata": {},
   "outputs": [],
   "source": [
    "# Autre méthode de validation\n",
    "from email_validator import validate_email, EmailNotValidError\n",
    "def is_valid_email_v2(email):\n",
    "    try:\n",
    "        # Validate.\n",
    "        v =validate_email(email, check_deliverability=True)\n",
    "        # Email is valid.\n",
    "        is_valid = True\n",
    "        proposed_email = v[\"email\"]\n",
    "    except EmailNotValidError as e:\n",
    "        # Email is not valid.\n",
    "        is_valid = False\n",
    "        proposed_email = None\n",
    "\n",
    "    return pd.Series([is_valid, proposed_email])"
   ]
  },
  {
   "cell_type": "code",
   "execution_count": 11,
   "id": "251842af",
   "metadata": {},
   "outputs": [
    {
     "name": "stderr",
     "output_type": "stream",
     "text": [
      "C:\\Users\\aurel\\AppData\\Local\\Temp\\ipykernel_33448\\2326700017.py:9: DeprecationWarning: dict-like access to the return value of validate_email is deprecated and may not be supported in the future.\n",
      "  proposed_email = v[\"email\"]\n"
     ]
    },
    {
     "name": "stdout",
     "output_type": "stream",
     "text": [
      "(3718, 5)\n"
     ]
    }
   ],
   "source": [
    "# Validation plus rapide \n",
    "if valid_method == 2:\n",
    "    df[['Valid_Email', 'proposed_email']] = df.apply(lambda row: is_valid_email_v2(row[\"corrected_email\"]), axis=1)\n",
    "    print(df.shape)\n",
    "    df.head()"
   ]
  },
  {
   "cell_type": "code",
   "execution_count": 12,
   "id": "326cbdbc",
   "metadata": {},
   "outputs": [
    {
     "data": {
      "text/plain": [
       "Valid_Email\n",
       "True     2567\n",
       "False    1151\n",
       "Name: count, dtype: int64"
      ]
     },
     "execution_count": 12,
     "metadata": {},
     "output_type": "execute_result"
    }
   ],
   "source": [
    "# Résumé\n",
    "df[\"Valid_Email\"].value_counts()"
   ]
  },
  {
   "cell_type": "code",
   "execution_count": 13,
   "id": "49518042",
   "metadata": {},
   "outputs": [
    {
     "data": {
      "text/plain": [
       "Valid_Email\n",
       "False     852\n",
       "True     1581\n",
       "Name: Nom organisation, dtype: int64"
      ]
     },
     "execution_count": 13,
     "metadata": {},
     "output_type": "execute_result"
    }
   ],
   "source": [
    "# Nombre d'organisations uniques avec au moins 1 email valide\n",
    "unique_organizations = df.groupby(\"Valid_Email\")[\"Nom organisation\"].nunique()\n",
    "unique_organizations"
   ]
  },
  {
   "cell_type": "code",
   "execution_count": 14,
   "id": "855860b2",
   "metadata": {},
   "outputs": [
    {
     "data": {
      "text/html": [
       "<div>\n",
       "<style scoped>\n",
       "    .dataframe tbody tr th:only-of-type {\n",
       "        vertical-align: middle;\n",
       "    }\n",
       "\n",
       "    .dataframe tbody tr th {\n",
       "        vertical-align: top;\n",
       "    }\n",
       "\n",
       "    .dataframe thead th {\n",
       "        text-align: right;\n",
       "    }\n",
       "</style>\n",
       "<table border=\"1\" class=\"dataframe\">\n",
       "  <thead>\n",
       "    <tr style=\"text-align: right;\">\n",
       "      <th></th>\n",
       "      <th>Email contact</th>\n",
       "      <th>corrected_email</th>\n",
       "      <th>Valid_Email</th>\n",
       "      <th>proposed_email</th>\n",
       "    </tr>\n",
       "    <tr>\n",
       "      <th>Nom organisation</th>\n",
       "      <th></th>\n",
       "      <th></th>\n",
       "      <th></th>\n",
       "      <th></th>\n",
       "    </tr>\n",
       "  </thead>\n",
       "  <tbody>\n",
       "    <tr>\n",
       "      <th>30</th>\n",
       "      <td>3</td>\n",
       "      <td>3</td>\n",
       "      <td>1</td>\n",
       "      <td>3</td>\n",
       "    </tr>\n",
       "    <tr>\n",
       "      <th>ET</th>\n",
       "      <td>1</td>\n",
       "      <td>1</td>\n",
       "      <td>1</td>\n",
       "      <td>1</td>\n",
       "    </tr>\n",
       "    <tr>\n",
       "      <th>Miroir de l'Arl C9 Ier de chaque mois Mensuel</th>\n",
       "      <td>1</td>\n",
       "      <td>1</td>\n",
       "      <td>1</td>\n",
       "      <td>1</td>\n",
       "    </tr>\n",
       "    <tr>\n",
       "      <th>!FESTIVAL</th>\n",
       "      <td>1</td>\n",
       "      <td>1</td>\n",
       "      <td>1</td>\n",
       "      <td>1</td>\n",
       "    </tr>\n",
       "    <tr>\n",
       "      <th>0</th>\n",
       "      <td>170</td>\n",
       "      <td>168</td>\n",
       "      <td>1</td>\n",
       "      <td>168</td>\n",
       "    </tr>\n",
       "    <tr>\n",
       "      <th>...</th>\n",
       "      <td>...</td>\n",
       "      <td>...</td>\n",
       "      <td>...</td>\n",
       "      <td>...</td>\n",
       "    </tr>\n",
       "    <tr>\n",
       "      <th>tu</th>\n",
       "      <td>1</td>\n",
       "      <td>1</td>\n",
       "      <td>1</td>\n",
       "      <td>1</td>\n",
       "    </tr>\n",
       "    <tr>\n",
       "      <th>tü</th>\n",
       "      <td>22</td>\n",
       "      <td>22</td>\n",
       "      <td>1</td>\n",
       "      <td>22</td>\n",
       "    </tr>\n",
       "    <tr>\n",
       "      <th>z</th>\n",
       "      <td>2</td>\n",
       "      <td>2</td>\n",
       "      <td>1</td>\n",
       "      <td>2</td>\n",
       "    </tr>\n",
       "    <tr>\n",
       "      <th>Œ1'</th>\n",
       "      <td>1</td>\n",
       "      <td>1</td>\n",
       "      <td>1</td>\n",
       "      <td>1</td>\n",
       "    </tr>\n",
       "    <tr>\n",
       "      <th>œ</th>\n",
       "      <td>1</td>\n",
       "      <td>1</td>\n",
       "      <td>1</td>\n",
       "      <td>1</td>\n",
       "    </tr>\n",
       "  </tbody>\n",
       "</table>\n",
       "<p>1581 rows × 4 columns</p>\n",
       "</div>"
      ],
      "text/plain": [
       "                                                 Email contact  \\\n",
       "Nom organisation                                                 \n",
       " 30                                                          3   \n",
       " ET                                                          1   \n",
       " Miroir de l'Arl C9 Ier de chaque mois Mensuel               1   \n",
       "!FESTIVAL                                                    1   \n",
       "0                                                          170   \n",
       "...                                                        ...   \n",
       "tu                                                           1   \n",
       "tü                                                          22   \n",
       "z                                                            2   \n",
       "Œ1'                                                          1   \n",
       "œ                                                            1   \n",
       "\n",
       "                                                 corrected_email  Valid_Email  \\\n",
       "Nom organisation                                                                \n",
       " 30                                                            3            1   \n",
       " ET                                                            1            1   \n",
       " Miroir de l'Arl C9 Ier de chaque mois Mensuel                 1            1   \n",
       "!FESTIVAL                                                      1            1   \n",
       "0                                                            168            1   \n",
       "...                                                          ...          ...   \n",
       "tu                                                             1            1   \n",
       "tü                                                            22            1   \n",
       "z                                                              2            1   \n",
       "Œ1'                                                            1            1   \n",
       "œ                                                              1            1   \n",
       "\n",
       "                                                 proposed_email  \n",
       "Nom organisation                                                 \n",
       " 30                                                           3  \n",
       " ET                                                           1  \n",
       " Miroir de l'Arl C9 Ier de chaque mois Mensuel                1  \n",
       "!FESTIVAL                                                     1  \n",
       "0                                                           168  \n",
       "...                                                         ...  \n",
       "tu                                                            1  \n",
       "tü                                                           22  \n",
       "z                                                             2  \n",
       "Œ1'                                                           1  \n",
       "œ                                                             1  \n",
       "\n",
       "[1581 rows x 4 columns]"
      ]
     },
     "execution_count": 14,
     "metadata": {},
     "output_type": "execute_result"
    }
   ],
   "source": [
    "# Nombre de contacts a priori valide par organisation\n",
    "df[df[\"Valid_Email\"]].groupby(\"Nom organisation\").nunique()"
   ]
  }
 ],
 "metadata": {
  "kernelspec": {
   "display_name": "OME_redaction_presse",
   "language": "python",
   "name": "python3"
  },
  "language_info": {
   "codemirror_mode": {
    "name": "ipython",
    "version": 3
   },
   "file_extension": ".py",
   "mimetype": "text/x-python",
   "name": "python",
   "nbconvert_exporter": "python",
   "pygments_lexer": "ipython3",
   "version": "3.14.0"
  }
 },
 "nbformat": 4,
 "nbformat_minor": 5
}
