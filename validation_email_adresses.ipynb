{
 "cells": [
  {
   "cell_type": "markdown",
   "id": "ff4f49c8",
   "metadata": {},
   "source": [
    "# Nettoyage du fichier de contact presse "
   ]
  },
  {
   "cell_type": "code",
   "execution_count": null,
   "id": "c96d80ec",
   "metadata": {},
   "outputs": [],
   "source": [
    "import re\n",
    "import pandas as pd\n",
    "\n",
    "from validate_email import validate_email\n",
    "from config_corrections import ocr_corrections"
   ]
  },
  {
   "cell_type": "code",
   "execution_count": null,
   "id": "135c0a03",
   "metadata": {},
   "outputs": [],
   "source": [
    "# Choix de la méthode de validation (1 ou 2)\n",
    "valid_method = 2"
   ]
  },
  {
   "cell_type": "code",
   "execution_count": null,
   "id": "bf5027e7",
   "metadata": {},
   "outputs": [
    {
     "name": "stdout",
     "output_type": "stream",
     "text": [
      "(7450, 2)\n"
     ]
    },
    {
     "data": {
      "text/html": [
       "<div>\n",
       "<style scoped>\n",
       "    .dataframe tbody tr th:only-of-type {\n",
       "        vertical-align: middle;\n",
       "    }\n",
       "\n",
       "    .dataframe tbody tr th {\n",
       "        vertical-align: top;\n",
       "    }\n",
       "\n",
       "    .dataframe thead th {\n",
       "        text-align: right;\n",
       "    }\n",
       "</style>\n",
       "<table border=\"1\" class=\"dataframe\">\n",
       "  <thead>\n",
       "    <tr style=\"text-align: right;\">\n",
       "      <th></th>\n",
       "      <th>Nom organisation</th>\n",
       "      <th>Email contact</th>\n",
       "    </tr>\n",
       "  </thead>\n",
       "  <tbody>\n",
       "    <tr>\n",
       "      <th>0</th>\n",
       "      <td>UPRIGHT AGENCY</td>\n",
       "      <td>ivictor@lOOpourlOOgolf.com</td>\n",
       "    </tr>\n",
       "    <tr>\n",
       "      <th>1</th>\n",
       "      <td>UPRIGHT AGENCY</td>\n",
       "      <td>ivictor@lOOpourlOOgolf.com</td>\n",
       "    </tr>\n",
       "    <tr>\n",
       "      <th>2</th>\n",
       "      <td>VOCATIF</td>\n",
       "      <td>vocat1f@wanadoo.fr</td>\n",
       "    </tr>\n",
       "    <tr>\n",
       "      <th>3</th>\n",
       "      <td>VOCATIF</td>\n",
       "      <td>vocat1f@wanadoo.fr</td>\n",
       "    </tr>\n",
       "    <tr>\n",
       "      <th>4</th>\n",
       "      <td>WAKE UP EVENTS</td>\n",
       "      <td>conlacl@scapevenl.com</td>\n",
       "    </tr>\n",
       "  </tbody>\n",
       "</table>\n",
       "</div>"
      ],
      "text/plain": [
       "  Nom organisation               Email contact\n",
       "0   UPRIGHT AGENCY  ivictor@lOOpourlOOgolf.com\n",
       "1   UPRIGHT AGENCY  ivictor@lOOpourlOOgolf.com\n",
       "2          VOCATIF          vocat1f@wanadoo.fr\n",
       "3          VOCATIF          vocat1f@wanadoo.fr\n",
       "4   WAKE UP EVENTS       conlacl@scapevenl.com"
      ]
     },
     "execution_count": 3,
     "metadata": {},
     "output_type": "execute_result"
    }
   ],
   "source": [
    "# Chargement du fichier CSV contenant les adresses e-mail\n",
    "df = pd.read_csv('data/Contacts_clean.csv')\n",
    "print(df.shape)\n",
    "df.head()"
   ]
  },
  {
   "cell_type": "code",
   "execution_count": null,
   "id": "a3854e46",
   "metadata": {},
   "outputs": [
    {
     "name": "stdout",
     "output_type": "stream",
     "text": [
      "(3718, 2)\n"
     ]
    },
    {
     "data": {
      "text/html": [
       "<div>\n",
       "<style scoped>\n",
       "    .dataframe tbody tr th:only-of-type {\n",
       "        vertical-align: middle;\n",
       "    }\n",
       "\n",
       "    .dataframe tbody tr th {\n",
       "        vertical-align: top;\n",
       "    }\n",
       "\n",
       "    .dataframe thead th {\n",
       "        text-align: right;\n",
       "    }\n",
       "</style>\n",
       "<table border=\"1\" class=\"dataframe\">\n",
       "  <thead>\n",
       "    <tr style=\"text-align: right;\">\n",
       "      <th></th>\n",
       "      <th>Nom organisation</th>\n",
       "      <th>Email contact</th>\n",
       "    </tr>\n",
       "  </thead>\n",
       "  <tbody>\n",
       "    <tr>\n",
       "      <th>0</th>\n",
       "      <td>UPRIGHT AGENCY</td>\n",
       "      <td>ivictor@lOOpourlOOgolf.com</td>\n",
       "    </tr>\n",
       "    <tr>\n",
       "      <th>2</th>\n",
       "      <td>VOCATIF</td>\n",
       "      <td>vocat1f@wanadoo.fr</td>\n",
       "    </tr>\n",
       "    <tr>\n",
       "      <th>4</th>\n",
       "      <td>WAKE UP EVENTS</td>\n",
       "      <td>conlacl@scapevenl.com</td>\n",
       "    </tr>\n",
       "    <tr>\n",
       "      <th>6</th>\n",
       "      <td>WHAT'S HAP</td>\n",
       "      <td>maumus@whatshap.fr</td>\n",
       "    </tr>\n",
       "    <tr>\n",
       "      <th>8</th>\n",
       "      <td>WMH PROJECT</td>\n",
       "      <td>developpement@fc2events.fr</td>\n",
       "    </tr>\n",
       "  </tbody>\n",
       "</table>\n",
       "</div>"
      ],
      "text/plain": [
       "  Nom organisation               Email contact\n",
       "0   UPRIGHT AGENCY  ivictor@lOOpourlOOgolf.com\n",
       "2          VOCATIF          vocat1f@wanadoo.fr\n",
       "4   WAKE UP EVENTS       conlacl@scapevenl.com\n",
       "6       WHAT'S HAP          maumus@whatshap.fr\n",
       "8      WMH PROJECT  developpement@fc2events.fr"
      ]
     },
     "execution_count": 4,
     "metadata": {},
     "output_type": "execute_result"
    }
   ],
   "source": [
    "# Retrait des doublons\n",
    "df = df.drop_duplicates()\n",
    "print(df.shape)\n",
    "df.head()"
   ]
  },
  {
   "cell_type": "code",
   "execution_count": null,
   "id": "35bb75e8",
   "metadata": {},
   "outputs": [],
   "source": [
    "# Validation des adresses e-mail\n",
    "def is_valid_email(email):\n",
    "    is_valid = validate_email(\n",
    "    email_address=email,\n",
    "    check_format=True,\n",
    "    check_blacklist=True,\n",
    "    check_dns=False,\n",
    "    dns_timeout=10,\n",
    "    check_smtp=True,\n",
    "    smtp_timeout=10,\n",
    "    smtp_helo_host=False,\n",
    "    smtp_from_address=False,\n",
    "    smtp_skip_tls=True,\n",
    "    smtp_tls_context=False,\n",
    "    smtp_debug=False)\n",
    "    \n",
    "    return is_valid"
   ]
  },
  {
   "cell_type": "code",
   "execution_count": null,
   "id": "756c33ad",
   "metadata": {},
   "outputs": [],
   "source": [
    "# Corrections courantes d'OCR\n",
    "def correct_ocr_errors_advanced(email, corrections_dict=ocr_corrections):\n",
    "    \"\"\"Corrige les erreurs OCR courantes dans les emails\"\"\"\n",
    "    if not isinstance(email, str):\n",
    "        return str(email) if email is not None else \"\"\n",
    "    \n",
    "    email = email.strip()\n",
    "    \n",
    "    if not email or '@' not in email:\n",
    "        return email\n",
    "    \n",
    "    \n",
    "    # Séparer la partie locale et le domaine\n",
    "    local, domain = email.rsplit('@', 1)\n",
    "    \n",
    "    # Appliquer les corrections sur la partie locale et le domaine\n",
    "    for wrong, correct in corrections_dict.items():\n",
    "        # Correction pour les caractères simples (1, 0, 5)\n",
    "        if len(wrong) == 1 and len(correct) == 1:\n",
    "            # Remplacer uniquement si entouré de lettres (pas de chiffres)\n",
    "            local = re.sub(rf'(?<=[a-zA-Z]){re.escape(wrong)}(?=[a-zA-Z])', correct, local)\n",
    "            local = re.sub(rf'^{re.escape(wrong)}(?=[a-zA-Z])', correct, local)\n",
    "            local = re.sub(rf'(?<=[a-zA-Z]){re.escape(wrong)}$', correct, local)\n",
    "            \n",
    "            domain = re.sub(rf'(?<=[a-zA-Z]){re.escape(wrong)}(?=[a-zA-Z])', correct, domain)\n",
    "            domain = re.sub(rf'^{re.escape(wrong)}(?=[a-zA-Z])', correct, domain)\n",
    "            domain = re.sub(rf'(?<=[a-zA-Z]){re.escape(wrong)}$', correct, domain)\n",
    "        else:\n",
    "            # Correction pour les groupes de caractères (rn, vv)\n",
    "            local = local.replace(wrong, correct)\n",
    "            domain = domain.replace(wrong, correct)\n",
    "    \n",
    "    email_corrected = f\"{local}@{domain}\"\n",
    "    \n",
    "    return email_corrected"
   ]
  },
  {
   "cell_type": "code",
   "execution_count": null,
   "id": "615f7f40",
   "metadata": {},
   "outputs": [
    {
     "name": "stdout",
     "output_type": "stream",
     "text": [
      "(3718, 3)\n"
     ]
    },
    {
     "data": {
      "text/html": [
       "<div>\n",
       "<style scoped>\n",
       "    .dataframe tbody tr th:only-of-type {\n",
       "        vertical-align: middle;\n",
       "    }\n",
       "\n",
       "    .dataframe tbody tr th {\n",
       "        vertical-align: top;\n",
       "    }\n",
       "\n",
       "    .dataframe thead th {\n",
       "        text-align: right;\n",
       "    }\n",
       "</style>\n",
       "<table border=\"1\" class=\"dataframe\">\n",
       "  <thead>\n",
       "    <tr style=\"text-align: right;\">\n",
       "      <th></th>\n",
       "      <th>Nom organisation</th>\n",
       "      <th>Email contact</th>\n",
       "      <th>corrected_email</th>\n",
       "    </tr>\n",
       "  </thead>\n",
       "  <tbody>\n",
       "    <tr>\n",
       "      <th>0</th>\n",
       "      <td>UPRIGHT AGENCY</td>\n",
       "      <td>ivictor@lOOpourlOOgolf.com</td>\n",
       "      <td>ivictor@lOOpourlOOgolf.com</td>\n",
       "    </tr>\n",
       "    <tr>\n",
       "      <th>2</th>\n",
       "      <td>VOCATIF</td>\n",
       "      <td>vocat1f@wanadoo.fr</td>\n",
       "      <td>vocatif@wanadoo.fr</td>\n",
       "    </tr>\n",
       "    <tr>\n",
       "      <th>4</th>\n",
       "      <td>WAKE UP EVENTS</td>\n",
       "      <td>conlacl@scapevenl.com</td>\n",
       "      <td>contact@scapevenl.com</td>\n",
       "    </tr>\n",
       "    <tr>\n",
       "      <th>6</th>\n",
       "      <td>WHAT'S HAP</td>\n",
       "      <td>maumus@whatshap.fr</td>\n",
       "      <td>maumus@whatshap.fr</td>\n",
       "    </tr>\n",
       "    <tr>\n",
       "      <th>8</th>\n",
       "      <td>WMH PROJECT</td>\n",
       "      <td>developpement@fc2events.fr</td>\n",
       "      <td>developpement@fc2events.fr</td>\n",
       "    </tr>\n",
       "  </tbody>\n",
       "</table>\n",
       "</div>"
      ],
      "text/plain": [
       "  Nom organisation               Email contact             corrected_email\n",
       "0   UPRIGHT AGENCY  ivictor@lOOpourlOOgolf.com  ivictor@lOOpourlOOgolf.com\n",
       "2          VOCATIF          vocat1f@wanadoo.fr          vocatif@wanadoo.fr\n",
       "4   WAKE UP EVENTS       conlacl@scapevenl.com       contact@scapevenl.com\n",
       "6       WHAT'S HAP          maumus@whatshap.fr          maumus@whatshap.fr\n",
       "8      WMH PROJECT  developpement@fc2events.fr  developpement@fc2events.fr"
      ]
     },
     "execution_count": 8,
     "metadata": {},
     "output_type": "execute_result"
    }
   ],
   "source": [
    "# Correction des mails\n",
    "df['corrected_email'] = df[\"Email contact\"].apply(lambda email: correct_ocr_errors_advanced(email))\n",
    "print(df.shape)\n",
    "df.head()"
   ]
  },
  {
   "cell_type": "code",
   "execution_count": null,
   "id": "779be3ef",
   "metadata": {},
   "outputs": [],
   "source": [
    "# Validation complexe\n",
    "if valid_method == 1:\n",
    "\n",
    "    # Test sur un échatillon\n",
    "    df_test = df.sample(n=20, random_state=42)\n",
    "\n",
    "    # Validation des adresses e-mail\n",
    "    df_test[\"Valid_Email\"] = df_test[\"Email contact\"].apply(is_valid_email)\n",
    "    print(df_test.shape)\n",
    "\n",
    "    # Résumé\n",
    "    df_test[\"Valid_Email\"].value_counts()\n",
    "\n",
    "    # Affichage\n",
    "    print(df_test)"
   ]
  },
  {
   "cell_type": "code",
   "execution_count": null,
   "id": "870099a9",
   "metadata": {},
   "outputs": [],
   "source": [
    "# Autre méthode de validation\n",
    "from email_validator import validate_email, EmailNotValidError\n",
    "def is_valid_email_v2(email):\n",
    "    try:\n",
    "        # Validate.\n",
    "        v =validate_email(email, check_deliverability=True)\n",
    "        # Email is valid.\n",
    "        is_valid = True\n",
    "        proposed_email = v[\"email\"]\n",
    "    except EmailNotValidError as e:\n",
    "        # Email is not valid.\n",
    "        is_valid = False\n",
    "        proposed_email = None\n",
    "\n",
    "    return pd.Series([is_valid, proposed_email])"
   ]
  },
  {
   "cell_type": "code",
   "execution_count": null,
   "id": "251842af",
   "metadata": {},
   "outputs": [
    {
     "name": "stderr",
     "output_type": "stream",
     "text": [
      "C:\\Users\\aurel\\AppData\\Local\\Temp\\ipykernel_8540\\2326700017.py:9: DeprecationWarning: dict-like access to the return value of validate_email is deprecated and may not be supported in the future.\n",
      "  proposed_email = v[\"email\"]\n"
     ]
    },
    {
     "ename": "KeyboardInterrupt",
     "evalue": "",
     "output_type": "error",
     "traceback": [
      "\u001b[31m---------------------------------------------------------------------------\u001b[39m",
      "\u001b[31mKeyboardInterrupt\u001b[39m                         Traceback (most recent call last)",
      "\u001b[36mCell\u001b[39m\u001b[36m \u001b[39m\u001b[32mIn[11]\u001b[39m\u001b[32m, line 3\u001b[39m\n\u001b[32m      1\u001b[39m \u001b[38;5;66;03m# Validation plus rapide \u001b[39;00m\n\u001b[32m      2\u001b[39m \u001b[38;5;28;01mif\u001b[39;00m valid_method == \u001b[32m2\u001b[39m:\n\u001b[32m----> \u001b[39m\u001b[32m3\u001b[39m     df[[\u001b[33m'\u001b[39m\u001b[33mValid_Email\u001b[39m\u001b[33m'\u001b[39m, \u001b[33m'\u001b[39m\u001b[33mproposed_email\u001b[39m\u001b[33m'\u001b[39m]] = \u001b[43mdf\u001b[49m\u001b[43m.\u001b[49m\u001b[43mapply\u001b[49m\u001b[43m(\u001b[49m\u001b[38;5;28;43;01mlambda\u001b[39;49;00m\u001b[43m \u001b[49m\u001b[43mrow\u001b[49m\u001b[43m:\u001b[49m\u001b[43m \u001b[49m\u001b[43mis_valid_email_v2\u001b[49m\u001b[43m(\u001b[49m\u001b[43mrow\u001b[49m\u001b[43m[\u001b[49m\u001b[33;43m\"\u001b[39;49m\u001b[33;43mcorrected_email\u001b[39;49m\u001b[33;43m\"\u001b[39;49m\u001b[43m]\u001b[49m\u001b[43m)\u001b[49m\u001b[43m,\u001b[49m\u001b[43m \u001b[49m\u001b[43maxis\u001b[49m\u001b[43m=\u001b[49m\u001b[32;43m1\u001b[39;49m\u001b[43m)\u001b[49m\n\u001b[32m      4\u001b[39m     \u001b[38;5;28mprint\u001b[39m(df.shape)\n\u001b[32m      5\u001b[39m     df.head()\n",
      "\u001b[36mFile \u001b[39m\u001b[32mc:\\ProgramData\\Anaconda3\\envs\\OME_redaction_presse\\Lib\\site-packages\\pandas\\core\\frame.py:10401\u001b[39m, in \u001b[36mDataFrame.apply\u001b[39m\u001b[34m(self, func, axis, raw, result_type, args, by_row, engine, engine_kwargs, **kwargs)\u001b[39m\n\u001b[32m  10387\u001b[39m \u001b[38;5;28;01mfrom\u001b[39;00m\u001b[38;5;250m \u001b[39m\u001b[34;01mpandas\u001b[39;00m\u001b[34;01m.\u001b[39;00m\u001b[34;01mcore\u001b[39;00m\u001b[34;01m.\u001b[39;00m\u001b[34;01mapply\u001b[39;00m\u001b[38;5;250m \u001b[39m\u001b[38;5;28;01mimport\u001b[39;00m frame_apply\n\u001b[32m  10389\u001b[39m op = frame_apply(\n\u001b[32m  10390\u001b[39m     \u001b[38;5;28mself\u001b[39m,\n\u001b[32m  10391\u001b[39m     func=func,\n\u001b[32m   (...)\u001b[39m\u001b[32m  10399\u001b[39m     kwargs=kwargs,\n\u001b[32m  10400\u001b[39m )\n\u001b[32m> \u001b[39m\u001b[32m10401\u001b[39m \u001b[38;5;28;01mreturn\u001b[39;00m \u001b[43mop\u001b[49m\u001b[43m.\u001b[49m\u001b[43mapply\u001b[49m\u001b[43m(\u001b[49m\u001b[43m)\u001b[49m.__finalize__(\u001b[38;5;28mself\u001b[39m, method=\u001b[33m\"\u001b[39m\u001b[33mapply\u001b[39m\u001b[33m\"\u001b[39m)\n",
      "\u001b[36mFile \u001b[39m\u001b[32mc:\\ProgramData\\Anaconda3\\envs\\OME_redaction_presse\\Lib\\site-packages\\pandas\\core\\apply.py:916\u001b[39m, in \u001b[36mFrameApply.apply\u001b[39m\u001b[34m(self)\u001b[39m\n\u001b[32m    913\u001b[39m \u001b[38;5;28;01melif\u001b[39;00m \u001b[38;5;28mself\u001b[39m.raw:\n\u001b[32m    914\u001b[39m     \u001b[38;5;28;01mreturn\u001b[39;00m \u001b[38;5;28mself\u001b[39m.apply_raw(engine=\u001b[38;5;28mself\u001b[39m.engine, engine_kwargs=\u001b[38;5;28mself\u001b[39m.engine_kwargs)\n\u001b[32m--> \u001b[39m\u001b[32m916\u001b[39m \u001b[38;5;28;01mreturn\u001b[39;00m \u001b[38;5;28;43mself\u001b[39;49m\u001b[43m.\u001b[49m\u001b[43mapply_standard\u001b[49m\u001b[43m(\u001b[49m\u001b[43m)\u001b[49m\n",
      "\u001b[36mFile \u001b[39m\u001b[32mc:\\ProgramData\\Anaconda3\\envs\\OME_redaction_presse\\Lib\\site-packages\\pandas\\core\\apply.py:1063\u001b[39m, in \u001b[36mFrameApply.apply_standard\u001b[39m\u001b[34m(self)\u001b[39m\n\u001b[32m   1061\u001b[39m \u001b[38;5;28;01mdef\u001b[39;00m\u001b[38;5;250m \u001b[39m\u001b[34mapply_standard\u001b[39m(\u001b[38;5;28mself\u001b[39m):\n\u001b[32m   1062\u001b[39m     \u001b[38;5;28;01mif\u001b[39;00m \u001b[38;5;28mself\u001b[39m.engine == \u001b[33m\"\u001b[39m\u001b[33mpython\u001b[39m\u001b[33m\"\u001b[39m:\n\u001b[32m-> \u001b[39m\u001b[32m1063\u001b[39m         results, res_index = \u001b[38;5;28;43mself\u001b[39;49m\u001b[43m.\u001b[49m\u001b[43mapply_series_generator\u001b[49m\u001b[43m(\u001b[49m\u001b[43m)\u001b[49m\n\u001b[32m   1064\u001b[39m     \u001b[38;5;28;01melse\u001b[39;00m:\n\u001b[32m   1065\u001b[39m         results, res_index = \u001b[38;5;28mself\u001b[39m.apply_series_numba()\n",
      "\u001b[36mFile \u001b[39m\u001b[32mc:\\ProgramData\\Anaconda3\\envs\\OME_redaction_presse\\Lib\\site-packages\\pandas\\core\\apply.py:1081\u001b[39m, in \u001b[36mFrameApply.apply_series_generator\u001b[39m\u001b[34m(self)\u001b[39m\n\u001b[32m   1078\u001b[39m \u001b[38;5;28;01mwith\u001b[39;00m option_context(\u001b[33m\"\u001b[39m\u001b[33mmode.chained_assignment\u001b[39m\u001b[33m\"\u001b[39m, \u001b[38;5;28;01mNone\u001b[39;00m):\n\u001b[32m   1079\u001b[39m     \u001b[38;5;28;01mfor\u001b[39;00m i, v \u001b[38;5;129;01min\u001b[39;00m \u001b[38;5;28menumerate\u001b[39m(series_gen):\n\u001b[32m   1080\u001b[39m         \u001b[38;5;66;03m# ignore SettingWithCopy here in case the user mutates\u001b[39;00m\n\u001b[32m-> \u001b[39m\u001b[32m1081\u001b[39m         results[i] = \u001b[38;5;28;43mself\u001b[39;49m\u001b[43m.\u001b[49m\u001b[43mfunc\u001b[49m\u001b[43m(\u001b[49m\u001b[43mv\u001b[49m\u001b[43m,\u001b[49m\u001b[43m \u001b[49m\u001b[43m*\u001b[49m\u001b[38;5;28;43mself\u001b[39;49m\u001b[43m.\u001b[49m\u001b[43margs\u001b[49m\u001b[43m,\u001b[49m\u001b[43m \u001b[49m\u001b[43m*\u001b[49m\u001b[43m*\u001b[49m\u001b[38;5;28;43mself\u001b[39;49m\u001b[43m.\u001b[49m\u001b[43mkwargs\u001b[49m\u001b[43m)\u001b[49m\n\u001b[32m   1082\u001b[39m         \u001b[38;5;28;01mif\u001b[39;00m \u001b[38;5;28misinstance\u001b[39m(results[i], ABCSeries):\n\u001b[32m   1083\u001b[39m             \u001b[38;5;66;03m# If we have a view on v, we need to make a copy because\u001b[39;00m\n\u001b[32m   1084\u001b[39m             \u001b[38;5;66;03m#  series_generator will swap out the underlying data\u001b[39;00m\n\u001b[32m   1085\u001b[39m             results[i] = results[i].copy(deep=\u001b[38;5;28;01mFalse\u001b[39;00m)\n",
      "\u001b[36mCell\u001b[39m\u001b[36m \u001b[39m\u001b[32mIn[11]\u001b[39m\u001b[32m, line 3\u001b[39m, in \u001b[36m<lambda>\u001b[39m\u001b[34m(row)\u001b[39m\n\u001b[32m      1\u001b[39m \u001b[38;5;66;03m# Validation plus rapide \u001b[39;00m\n\u001b[32m      2\u001b[39m \u001b[38;5;28;01mif\u001b[39;00m valid_method == \u001b[32m2\u001b[39m:\n\u001b[32m----> \u001b[39m\u001b[32m3\u001b[39m     df[[\u001b[33m'\u001b[39m\u001b[33mValid_Email\u001b[39m\u001b[33m'\u001b[39m, \u001b[33m'\u001b[39m\u001b[33mproposed_email\u001b[39m\u001b[33m'\u001b[39m]] = df.apply(\u001b[38;5;28;01mlambda\u001b[39;00m row: \u001b[43mis_valid_email_v2\u001b[49m\u001b[43m(\u001b[49m\u001b[43mrow\u001b[49m\u001b[43m[\u001b[49m\u001b[33;43m\"\u001b[39;49m\u001b[33;43mcorrected_email\u001b[39;49m\u001b[33;43m\"\u001b[39;49m\u001b[43m]\u001b[49m\u001b[43m)\u001b[49m, axis=\u001b[32m1\u001b[39m)\n\u001b[32m      4\u001b[39m     \u001b[38;5;28mprint\u001b[39m(df.shape)\n\u001b[32m      5\u001b[39m     df.head()\n",
      "\u001b[36mCell\u001b[39m\u001b[36m \u001b[39m\u001b[32mIn[10]\u001b[39m\u001b[32m, line 6\u001b[39m, in \u001b[36mis_valid_email_v2\u001b[39m\u001b[34m(email)\u001b[39m\n\u001b[32m      3\u001b[39m \u001b[38;5;28;01mdef\u001b[39;00m\u001b[38;5;250m \u001b[39m\u001b[34mis_valid_email_v2\u001b[39m(email):\n\u001b[32m      4\u001b[39m     \u001b[38;5;28;01mtry\u001b[39;00m:\n\u001b[32m      5\u001b[39m         \u001b[38;5;66;03m# Validate.\u001b[39;00m\n\u001b[32m----> \u001b[39m\u001b[32m6\u001b[39m         v =\u001b[43mvalidate_email\u001b[49m\u001b[43m(\u001b[49m\u001b[43memail\u001b[49m\u001b[43m,\u001b[49m\u001b[43m \u001b[49m\u001b[43mcheck_deliverability\u001b[49m\u001b[43m=\u001b[49m\u001b[38;5;28;43;01mTrue\u001b[39;49;00m\u001b[43m)\u001b[49m\n\u001b[32m      7\u001b[39m         \u001b[38;5;66;03m# Email is valid.\u001b[39;00m\n\u001b[32m      8\u001b[39m         is_valid = \u001b[38;5;28;01mTrue\u001b[39;00m\n",
      "\u001b[36mFile \u001b[39m\u001b[32mc:\\ProgramData\\Anaconda3\\envs\\OME_redaction_presse\\Lib\\site-packages\\email_validator\\validate_email.py:201\u001b[39m, in \u001b[36mvalidate_email\u001b[39m\u001b[34m(email, allow_smtputf8, allow_empty_local, allow_quoted_local, allow_domain_literal, allow_display_name, strict, check_deliverability, test_environment, globally_deliverable, timeout, dns_resolver)\u001b[39m\n\u001b[32m    199\u001b[39m \u001b[38;5;66;03m# Lazy load `deliverability` as it is slow to import (due to dns.resolver)\u001b[39;00m\n\u001b[32m    200\u001b[39m \u001b[38;5;28;01mfrom\u001b[39;00m\u001b[38;5;250m \u001b[39m\u001b[34;01m.\u001b[39;00m\u001b[34;01mdeliverability\u001b[39;00m\u001b[38;5;250m \u001b[39m\u001b[38;5;28;01mimport\u001b[39;00m validate_email_deliverability\n\u001b[32m--> \u001b[39m\u001b[32m201\u001b[39m deliverability_info = \u001b[43mvalidate_email_deliverability\u001b[49m\u001b[43m(\u001b[49m\n\u001b[32m    202\u001b[39m \u001b[43m    \u001b[49m\u001b[43mret\u001b[49m\u001b[43m.\u001b[49m\u001b[43mascii_domain\u001b[49m\u001b[43m,\u001b[49m\u001b[43m \u001b[49m\u001b[43mret\u001b[49m\u001b[43m.\u001b[49m\u001b[43mdomain\u001b[49m\u001b[43m,\u001b[49m\u001b[43m \u001b[49m\u001b[43mtimeout\u001b[49m\u001b[43m,\u001b[49m\u001b[43m \u001b[49m\u001b[43mdns_resolver\u001b[49m\n\u001b[32m    203\u001b[39m \u001b[43m\u001b[49m\u001b[43m)\u001b[49m\n\u001b[32m    204\u001b[39m mx = deliverability_info.get(\u001b[33m\"\u001b[39m\u001b[33mmx\u001b[39m\u001b[33m\"\u001b[39m)\n\u001b[32m    205\u001b[39m \u001b[38;5;28;01mif\u001b[39;00m mx \u001b[38;5;129;01mis\u001b[39;00m \u001b[38;5;129;01mnot\u001b[39;00m \u001b[38;5;28;01mNone\u001b[39;00m:\n",
      "\u001b[36mFile \u001b[39m\u001b[32mc:\\ProgramData\\Anaconda3\\envs\\OME_redaction_presse\\Lib\\site-packages\\email_validator\\deliverability.py:51\u001b[39m, in \u001b[36mvalidate_email_deliverability\u001b[39m\u001b[34m(domain, domain_i18n, timeout, dns_resolver)\u001b[39m\n\u001b[32m     48\u001b[39m \u001b[38;5;28;01mtry\u001b[39;00m:\n\u001b[32m     49\u001b[39m     \u001b[38;5;28;01mtry\u001b[39;00m:\n\u001b[32m     50\u001b[39m         \u001b[38;5;66;03m# Try resolving for MX records (RFC 5321 Section 5).\u001b[39;00m\n\u001b[32m---> \u001b[39m\u001b[32m51\u001b[39m         response = \u001b[43mdns_resolver\u001b[49m\u001b[43m.\u001b[49m\u001b[43mresolve\u001b[49m\u001b[43m(\u001b[49m\u001b[43mdomain\u001b[49m\u001b[43m,\u001b[49m\u001b[43m \u001b[49m\u001b[33;43m\"\u001b[39;49m\u001b[33;43mMX\u001b[39;49m\u001b[33;43m\"\u001b[39;49m\u001b[43m)\u001b[49m\n\u001b[32m     53\u001b[39m         \u001b[38;5;66;03m# For reporting, put them in priority order and remove the trailing dot in the qnames.\u001b[39;00m\n\u001b[32m     54\u001b[39m         mtas = \u001b[38;5;28msorted\u001b[39m([(r.preference, \u001b[38;5;28mstr\u001b[39m(r.exchange).rstrip(\u001b[33m'\u001b[39m\u001b[33m.\u001b[39m\u001b[33m'\u001b[39m)) \u001b[38;5;28;01mfor\u001b[39;00m r \u001b[38;5;129;01min\u001b[39;00m response])\n",
      "\u001b[36mFile \u001b[39m\u001b[32mc:\\ProgramData\\Anaconda3\\envs\\OME_redaction_presse\\Lib\\site-packages\\dns\\resolver.py:1327\u001b[39m, in \u001b[36mResolver.resolve\u001b[39m\u001b[34m(self, qname, rdtype, rdclass, tcp, source, raise_on_no_answer, source_port, lifetime, search)\u001b[39m\n\u001b[32m   1325\u001b[39m (nameserver, tcp, backoff) = resolution.next_nameserver()\n\u001b[32m   1326\u001b[39m \u001b[38;5;28;01mif\u001b[39;00m backoff:\n\u001b[32m-> \u001b[39m\u001b[32m1327\u001b[39m     \u001b[43mtime\u001b[49m\u001b[43m.\u001b[49m\u001b[43msleep\u001b[49m\u001b[43m(\u001b[49m\u001b[43mbackoff\u001b[49m\u001b[43m)\u001b[49m\n\u001b[32m   1328\u001b[39m timeout = \u001b[38;5;28mself\u001b[39m._compute_timeout(start, lifetime, resolution.errors)\n\u001b[32m   1329\u001b[39m \u001b[38;5;28;01mtry\u001b[39;00m:\n",
      "\u001b[31mKeyboardInterrupt\u001b[39m: "
     ]
    }
   ],
   "source": [
    "# Validation plus rapide \n",
    "if valid_method == 2:\n",
    "    df[['Valid_Email', 'proposed_email']] = df.apply(lambda row: is_valid_email_v2(row[\"corrected_email\"]), axis=1)\n",
    "    print(df.shape)\n",
    "    df.head()"
   ]
  },
  {
   "cell_type": "code",
   "execution_count": null,
   "id": "326cbdbc",
   "metadata": {},
   "outputs": [
    {
     "data": {
      "text/plain": [
       "Valid_Email\n",
       "True     2567\n",
       "False    1151\n",
       "Name: count, dtype: int64"
      ]
     },
     "execution_count": 12,
     "metadata": {},
     "output_type": "execute_result"
    }
   ],
   "source": [
    "# Résumé\n",
    "df[\"Valid_Email\"].value_counts()"
   ]
  },
  {
   "cell_type": "code",
   "execution_count": null,
   "id": "49518042",
   "metadata": {},
   "outputs": [
    {
     "data": {
      "text/plain": [
       "Valid_Email\n",
       "False     852\n",
       "True     1581\n",
       "Name: Nom organisation, dtype: int64"
      ]
     },
     "execution_count": 13,
     "metadata": {},
     "output_type": "execute_result"
    }
   ],
   "source": [
    "# Nombre d'organisations uniques avec au moins 1 email valide\n",
    "unique_organizations = df.groupby(\"Valid_Email\")[\"Nom organisation\"].nunique()\n",
    "unique_organizations"
   ]
  },
  {
   "cell_type": "code",
   "execution_count": null,
   "id": "855860b2",
   "metadata": {},
   "outputs": [
    {
     "data": {
      "text/html": [
       "<div>\n",
       "<style scoped>\n",
       "    .dataframe tbody tr th:only-of-type {\n",
       "        vertical-align: middle;\n",
       "    }\n",
       "\n",
       "    .dataframe tbody tr th {\n",
       "        vertical-align: top;\n",
       "    }\n",
       "\n",
       "    .dataframe thead th {\n",
       "        text-align: right;\n",
       "    }\n",
       "</style>\n",
       "<table border=\"1\" class=\"dataframe\">\n",
       "  <thead>\n",
       "    <tr style=\"text-align: right;\">\n",
       "      <th></th>\n",
       "      <th>Email contact</th>\n",
       "      <th>corrected_email</th>\n",
       "      <th>Valid_Email</th>\n",
       "      <th>proposed_email</th>\n",
       "    </tr>\n",
       "    <tr>\n",
       "      <th>Nom organisation</th>\n",
       "      <th></th>\n",
       "      <th></th>\n",
       "      <th></th>\n",
       "      <th></th>\n",
       "    </tr>\n",
       "  </thead>\n",
       "  <tbody>\n",
       "    <tr>\n",
       "      <th>30</th>\n",
       "      <td>3</td>\n",
       "      <td>3</td>\n",
       "      <td>1</td>\n",
       "      <td>3</td>\n",
       "    </tr>\n",
       "    <tr>\n",
       "      <th>ET</th>\n",
       "      <td>1</td>\n",
       "      <td>1</td>\n",
       "      <td>1</td>\n",
       "      <td>1</td>\n",
       "    </tr>\n",
       "    <tr>\n",
       "      <th>Miroir de l'Arl C9 Ier de chaque mois Mensuel</th>\n",
       "      <td>1</td>\n",
       "      <td>1</td>\n",
       "      <td>1</td>\n",
       "      <td>1</td>\n",
       "    </tr>\n",
       "    <tr>\n",
       "      <th>!FESTIVAL</th>\n",
       "      <td>1</td>\n",
       "      <td>1</td>\n",
       "      <td>1</td>\n",
       "      <td>1</td>\n",
       "    </tr>\n",
       "    <tr>\n",
       "      <th>0</th>\n",
       "      <td>170</td>\n",
       "      <td>168</td>\n",
       "      <td>1</td>\n",
       "      <td>168</td>\n",
       "    </tr>\n",
       "    <tr>\n",
       "      <th>...</th>\n",
       "      <td>...</td>\n",
       "      <td>...</td>\n",
       "      <td>...</td>\n",
       "      <td>...</td>\n",
       "    </tr>\n",
       "    <tr>\n",
       "      <th>tu</th>\n",
       "      <td>1</td>\n",
       "      <td>1</td>\n",
       "      <td>1</td>\n",
       "      <td>1</td>\n",
       "    </tr>\n",
       "    <tr>\n",
       "      <th>tü</th>\n",
       "      <td>22</td>\n",
       "      <td>22</td>\n",
       "      <td>1</td>\n",
       "      <td>22</td>\n",
       "    </tr>\n",
       "    <tr>\n",
       "      <th>z</th>\n",
       "      <td>2</td>\n",
       "      <td>2</td>\n",
       "      <td>1</td>\n",
       "      <td>2</td>\n",
       "    </tr>\n",
       "    <tr>\n",
       "      <th>Œ1'</th>\n",
       "      <td>1</td>\n",
       "      <td>1</td>\n",
       "      <td>1</td>\n",
       "      <td>1</td>\n",
       "    </tr>\n",
       "    <tr>\n",
       "      <th>œ</th>\n",
       "      <td>1</td>\n",
       "      <td>1</td>\n",
       "      <td>1</td>\n",
       "      <td>1</td>\n",
       "    </tr>\n",
       "  </tbody>\n",
       "</table>\n",
       "<p>1581 rows × 4 columns</p>\n",
       "</div>"
      ],
      "text/plain": [
       "                                                 Email contact  \\\n",
       "Nom organisation                                                 \n",
       " 30                                                          3   \n",
       " ET                                                          1   \n",
       " Miroir de l'Arl C9 Ier de chaque mois Mensuel               1   \n",
       "!FESTIVAL                                                    1   \n",
       "0                                                          170   \n",
       "...                                                        ...   \n",
       "tu                                                           1   \n",
       "tü                                                          22   \n",
       "z                                                            2   \n",
       "Œ1'                                                          1   \n",
       "œ                                                            1   \n",
       "\n",
       "                                                 corrected_email  Valid_Email  \\\n",
       "Nom organisation                                                                \n",
       " 30                                                            3            1   \n",
       " ET                                                            1            1   \n",
       " Miroir de l'Arl C9 Ier de chaque mois Mensuel                 1            1   \n",
       "!FESTIVAL                                                      1            1   \n",
       "0                                                            168            1   \n",
       "...                                                          ...          ...   \n",
       "tu                                                             1            1   \n",
       "tü                                                            22            1   \n",
       "z                                                              2            1   \n",
       "Œ1'                                                            1            1   \n",
       "œ                                                              1            1   \n",
       "\n",
       "                                                 proposed_email  \n",
       "Nom organisation                                                 \n",
       " 30                                                           3  \n",
       " ET                                                           1  \n",
       " Miroir de l'Arl C9 Ier de chaque mois Mensuel                1  \n",
       "!FESTIVAL                                                     1  \n",
       "0                                                           168  \n",
       "...                                                         ...  \n",
       "tu                                                            1  \n",
       "tü                                                           22  \n",
       "z                                                             2  \n",
       "Œ1'                                                           1  \n",
       "œ                                                             1  \n",
       "\n",
       "[1581 rows x 4 columns]"
      ]
     },
     "execution_count": 14,
     "metadata": {},
     "output_type": "execute_result"
    }
   ],
   "source": [
    "# Nombre de contacts a priori valide par organisation\n",
    "df[df[\"Valid_Email\"]].groupby(\"Nom organisation\").nunique()"
   ]
  },
  {
   "cell_type": "code",
   "execution_count": null,
   "id": "fbd4cff6",
   "metadata": {},
   "outputs": [],
   "source": [
    "# Export des résultats\n",
    "df.to_csv('data/Contacts_validated.csv', index=False)"
   ]
  },
  {
   "cell_type": "code",
   "execution_count": null,
   "id": "3c13a74c",
   "metadata": {},
   "outputs": [],
   "source": [
    "# Export en excel\n",
    "df.to_excel('data/Contacts_validated.xlsx', index=False)"
   ]
  }
 ],
 "metadata": {
  "kernelspec": {
   "display_name": "OME_redaction_presse",
   "language": "python",
   "name": "python3"
  },
  "language_info": {
   "codemirror_mode": {
    "name": "ipython",
    "version": 3
   },
   "file_extension": ".py",
   "mimetype": "text/x-python",
   "name": "python",
   "nbconvert_exporter": "python",
   "pygments_lexer": "ipython3",
   "version": "3.14.0"
  }
 },
 "nbformat": 4,
 "nbformat_minor": 5
}
